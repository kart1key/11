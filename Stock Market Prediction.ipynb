{
 "cells": [
  {
   "cell_type": "code",
   "execution_count": 6,
   "id": "120f5c07",
   "metadata": {},
   "outputs": [],
   "source": [
    "import numpy as np\n",
    "import pandas as pd\n",
    "import datetime\n",
    "import math\n",
    "import matplotlib.pyplot as plt\n",
    "import seaborn as sns\n",
    "from sklearn.preprocessing import MinMaxScaler\n",
    "from tensorflow.keras.models import Sequential\n",
    "from tensorflow.keras.layers import Dense , LSTM\n",
    "from sklearn.metrics import mean_squared_error"
   ]
  },
  {
   "cell_type": "code",
   "execution_count": 7,
   "id": "8c45b965",
   "metadata": {},
   "outputs": [],
   "source": [
    "Dataset_link='https://raw.githubusercontent.com/mwitiderrick/stockprice/master/NSE-TATAGLOBAL.csv'\n"
   ]
  },
  {
   "cell_type": "code",
   "execution_count": 8,
   "id": "c97160f2",
   "metadata": {},
   "outputs": [
    {
     "data": {
      "text/html": [
       "<div>\n",
       "<style scoped>\n",
       "    .dataframe tbody tr th:only-of-type {\n",
       "        vertical-align: middle;\n",
       "    }\n",
       "\n",
       "    .dataframe tbody tr th {\n",
       "        vertical-align: top;\n",
       "    }\n",
       "\n",
       "    .dataframe thead th {\n",
       "        text-align: right;\n",
       "    }\n",
       "</style>\n",
       "<table border=\"1\" class=\"dataframe\">\n",
       "  <thead>\n",
       "    <tr style=\"text-align: right;\">\n",
       "      <th></th>\n",
       "      <th>Date</th>\n",
       "      <th>Open</th>\n",
       "      <th>High</th>\n",
       "      <th>Low</th>\n",
       "      <th>Last</th>\n",
       "      <th>Close</th>\n",
       "      <th>Total Trade Quantity</th>\n",
       "      <th>Turnover (Lacs)</th>\n",
       "    </tr>\n",
       "  </thead>\n",
       "  <tbody>\n",
       "    <tr>\n",
       "      <th>0</th>\n",
       "      <td>2018-09-28</td>\n",
       "      <td>234.05</td>\n",
       "      <td>235.95</td>\n",
       "      <td>230.20</td>\n",
       "      <td>233.50</td>\n",
       "      <td>233.75</td>\n",
       "      <td>3069914</td>\n",
       "      <td>7162.35</td>\n",
       "    </tr>\n",
       "    <tr>\n",
       "      <th>1</th>\n",
       "      <td>2018-09-27</td>\n",
       "      <td>234.55</td>\n",
       "      <td>236.80</td>\n",
       "      <td>231.10</td>\n",
       "      <td>233.80</td>\n",
       "      <td>233.25</td>\n",
       "      <td>5082859</td>\n",
       "      <td>11859.95</td>\n",
       "    </tr>\n",
       "    <tr>\n",
       "      <th>2</th>\n",
       "      <td>2018-09-26</td>\n",
       "      <td>240.00</td>\n",
       "      <td>240.00</td>\n",
       "      <td>232.50</td>\n",
       "      <td>235.00</td>\n",
       "      <td>234.25</td>\n",
       "      <td>2240909</td>\n",
       "      <td>5248.60</td>\n",
       "    </tr>\n",
       "    <tr>\n",
       "      <th>3</th>\n",
       "      <td>2018-09-25</td>\n",
       "      <td>233.30</td>\n",
       "      <td>236.75</td>\n",
       "      <td>232.00</td>\n",
       "      <td>236.25</td>\n",
       "      <td>236.10</td>\n",
       "      <td>2349368</td>\n",
       "      <td>5503.90</td>\n",
       "    </tr>\n",
       "    <tr>\n",
       "      <th>4</th>\n",
       "      <td>2018-09-24</td>\n",
       "      <td>233.55</td>\n",
       "      <td>239.20</td>\n",
       "      <td>230.75</td>\n",
       "      <td>234.00</td>\n",
       "      <td>233.30</td>\n",
       "      <td>3423509</td>\n",
       "      <td>7999.55</td>\n",
       "    </tr>\n",
       "    <tr>\n",
       "      <th>5</th>\n",
       "      <td>2018-09-21</td>\n",
       "      <td>235.00</td>\n",
       "      <td>237.00</td>\n",
       "      <td>227.95</td>\n",
       "      <td>233.75</td>\n",
       "      <td>234.60</td>\n",
       "      <td>5395319</td>\n",
       "      <td>12589.59</td>\n",
       "    </tr>\n",
       "    <tr>\n",
       "      <th>6</th>\n",
       "      <td>2018-09-19</td>\n",
       "      <td>235.95</td>\n",
       "      <td>237.20</td>\n",
       "      <td>233.45</td>\n",
       "      <td>234.60</td>\n",
       "      <td>234.90</td>\n",
       "      <td>1362058</td>\n",
       "      <td>3202.78</td>\n",
       "    </tr>\n",
       "    <tr>\n",
       "      <th>7</th>\n",
       "      <td>2018-09-18</td>\n",
       "      <td>237.90</td>\n",
       "      <td>239.25</td>\n",
       "      <td>233.50</td>\n",
       "      <td>235.50</td>\n",
       "      <td>235.05</td>\n",
       "      <td>2614794</td>\n",
       "      <td>6163.70</td>\n",
       "    </tr>\n",
       "    <tr>\n",
       "      <th>8</th>\n",
       "      <td>2018-09-17</td>\n",
       "      <td>233.15</td>\n",
       "      <td>238.00</td>\n",
       "      <td>230.25</td>\n",
       "      <td>236.40</td>\n",
       "      <td>236.60</td>\n",
       "      <td>3170894</td>\n",
       "      <td>7445.41</td>\n",
       "    </tr>\n",
       "    <tr>\n",
       "      <th>9</th>\n",
       "      <td>2018-09-14</td>\n",
       "      <td>223.45</td>\n",
       "      <td>236.70</td>\n",
       "      <td>223.30</td>\n",
       "      <td>234.00</td>\n",
       "      <td>233.95</td>\n",
       "      <td>6377909</td>\n",
       "      <td>14784.50</td>\n",
       "    </tr>\n",
       "  </tbody>\n",
       "</table>\n",
       "</div>"
      ],
      "text/plain": [
       "         Date    Open    High     Low    Last   Close  Total Trade Quantity  \\\n",
       "0  2018-09-28  234.05  235.95  230.20  233.50  233.75               3069914   \n",
       "1  2018-09-27  234.55  236.80  231.10  233.80  233.25               5082859   \n",
       "2  2018-09-26  240.00  240.00  232.50  235.00  234.25               2240909   \n",
       "3  2018-09-25  233.30  236.75  232.00  236.25  236.10               2349368   \n",
       "4  2018-09-24  233.55  239.20  230.75  234.00  233.30               3423509   \n",
       "5  2018-09-21  235.00  237.00  227.95  233.75  234.60               5395319   \n",
       "6  2018-09-19  235.95  237.20  233.45  234.60  234.90               1362058   \n",
       "7  2018-09-18  237.90  239.25  233.50  235.50  235.05               2614794   \n",
       "8  2018-09-17  233.15  238.00  230.25  236.40  236.60               3170894   \n",
       "9  2018-09-14  223.45  236.70  223.30  234.00  233.95               6377909   \n",
       "\n",
       "   Turnover (Lacs)  \n",
       "0          7162.35  \n",
       "1         11859.95  \n",
       "2          5248.60  \n",
       "3          5503.90  \n",
       "4          7999.55  \n",
       "5         12589.59  \n",
       "6          3202.78  \n",
       "7          6163.70  \n",
       "8          7445.41  \n",
       "9         14784.50  "
      ]
     },
     "execution_count": 8,
     "metadata": {},
     "output_type": "execute_result"
    }
   ],
   "source": [
    "df= pd.read_csv(Dataset_link, parse_dates=True,)\n",
    "df.reset_index()\n",
    "df.head(10)"
   ]
  },
  {
   "cell_type": "code",
   "execution_count": 9,
   "id": "969a8c61",
   "metadata": {},
   "outputs": [
    {
     "data": {
      "text/html": [
       "<div>\n",
       "<style scoped>\n",
       "    .dataframe tbody tr th:only-of-type {\n",
       "        vertical-align: middle;\n",
       "    }\n",
       "\n",
       "    .dataframe tbody tr th {\n",
       "        vertical-align: top;\n",
       "    }\n",
       "\n",
       "    .dataframe thead th {\n",
       "        text-align: right;\n",
       "    }\n",
       "</style>\n",
       "<table border=\"1\" class=\"dataframe\">\n",
       "  <thead>\n",
       "    <tr style=\"text-align: right;\">\n",
       "      <th></th>\n",
       "      <th>Date</th>\n",
       "      <th>Open</th>\n",
       "      <th>High</th>\n",
       "      <th>Low</th>\n",
       "      <th>Last</th>\n",
       "      <th>Close</th>\n",
       "      <th>Total Trade Quantity</th>\n",
       "      <th>Turnover (Lacs)</th>\n",
       "    </tr>\n",
       "  </thead>\n",
       "  <tbody>\n",
       "    <tr>\n",
       "      <th>1857</th>\n",
       "      <td>2011-04-01</td>\n",
       "      <td>97.75</td>\n",
       "      <td>101.40</td>\n",
       "      <td>97.65</td>\n",
       "      <td>100.60</td>\n",
       "      <td>100.65</td>\n",
       "      <td>1619264</td>\n",
       "      <td>1619.30</td>\n",
       "    </tr>\n",
       "    <tr>\n",
       "      <th>1946</th>\n",
       "      <td>2010-11-24</td>\n",
       "      <td>118.10</td>\n",
       "      <td>118.90</td>\n",
       "      <td>116.15</td>\n",
       "      <td>117.00</td>\n",
       "      <td>116.80</td>\n",
       "      <td>516440</td>\n",
       "      <td>609.14</td>\n",
       "    </tr>\n",
       "    <tr>\n",
       "      <th>1340</th>\n",
       "      <td>2013-04-30</td>\n",
       "      <td>145.00</td>\n",
       "      <td>148.00</td>\n",
       "      <td>142.70</td>\n",
       "      <td>146.75</td>\n",
       "      <td>147.25</td>\n",
       "      <td>3713627</td>\n",
       "      <td>5416.02</td>\n",
       "    </tr>\n",
       "    <tr>\n",
       "      <th>1241</th>\n",
       "      <td>2013-09-19</td>\n",
       "      <td>151.00</td>\n",
       "      <td>151.85</td>\n",
       "      <td>148.95</td>\n",
       "      <td>150.80</td>\n",
       "      <td>150.55</td>\n",
       "      <td>1640655</td>\n",
       "      <td>2464.00</td>\n",
       "    </tr>\n",
       "    <tr>\n",
       "      <th>1375</th>\n",
       "      <td>2013-03-06</td>\n",
       "      <td>133.00</td>\n",
       "      <td>133.50</td>\n",
       "      <td>129.50</td>\n",
       "      <td>130.40</td>\n",
       "      <td>130.05</td>\n",
       "      <td>3317696</td>\n",
       "      <td>4362.58</td>\n",
       "    </tr>\n",
       "    <tr>\n",
       "      <th>1205</th>\n",
       "      <td>2013-11-12</td>\n",
       "      <td>157.10</td>\n",
       "      <td>159.65</td>\n",
       "      <td>153.10</td>\n",
       "      <td>155.25</td>\n",
       "      <td>154.55</td>\n",
       "      <td>1842456</td>\n",
       "      <td>2891.59</td>\n",
       "    </tr>\n",
       "    <tr>\n",
       "      <th>900</th>\n",
       "      <td>2015-02-10</td>\n",
       "      <td>148.90</td>\n",
       "      <td>153.15</td>\n",
       "      <td>148.00</td>\n",
       "      <td>151.80</td>\n",
       "      <td>151.55</td>\n",
       "      <td>1719968</td>\n",
       "      <td>2596.83</td>\n",
       "    </tr>\n",
       "    <tr>\n",
       "      <th>465</th>\n",
       "      <td>2016-11-16</td>\n",
       "      <td>123.10</td>\n",
       "      <td>125.30</td>\n",
       "      <td>120.40</td>\n",
       "      <td>120.80</td>\n",
       "      <td>121.30</td>\n",
       "      <td>4703414</td>\n",
       "      <td>5766.07</td>\n",
       "    </tr>\n",
       "    <tr>\n",
       "      <th>799</th>\n",
       "      <td>2015-07-08</td>\n",
       "      <td>136.10</td>\n",
       "      <td>138.00</td>\n",
       "      <td>134.20</td>\n",
       "      <td>134.65</td>\n",
       "      <td>134.90</td>\n",
       "      <td>1608817</td>\n",
       "      <td>2183.57</td>\n",
       "    </tr>\n",
       "    <tr>\n",
       "      <th>930</th>\n",
       "      <td>2014-12-29</td>\n",
       "      <td>147.15</td>\n",
       "      <td>149.90</td>\n",
       "      <td>147.15</td>\n",
       "      <td>148.60</td>\n",
       "      <td>148.65</td>\n",
       "      <td>913003</td>\n",
       "      <td>1355.87</td>\n",
       "    </tr>\n",
       "  </tbody>\n",
       "</table>\n",
       "</div>"
      ],
      "text/plain": [
       "            Date    Open    High     Low    Last   Close  \\\n",
       "1857  2011-04-01   97.75  101.40   97.65  100.60  100.65   \n",
       "1946  2010-11-24  118.10  118.90  116.15  117.00  116.80   \n",
       "1340  2013-04-30  145.00  148.00  142.70  146.75  147.25   \n",
       "1241  2013-09-19  151.00  151.85  148.95  150.80  150.55   \n",
       "1375  2013-03-06  133.00  133.50  129.50  130.40  130.05   \n",
       "1205  2013-11-12  157.10  159.65  153.10  155.25  154.55   \n",
       "900   2015-02-10  148.90  153.15  148.00  151.80  151.55   \n",
       "465   2016-11-16  123.10  125.30  120.40  120.80  121.30   \n",
       "799   2015-07-08  136.10  138.00  134.20  134.65  134.90   \n",
       "930   2014-12-29  147.15  149.90  147.15  148.60  148.65   \n",
       "\n",
       "      Total Trade Quantity  Turnover (Lacs)  \n",
       "1857               1619264          1619.30  \n",
       "1946                516440           609.14  \n",
       "1340               3713627          5416.02  \n",
       "1241               1640655          2464.00  \n",
       "1375               3317696          4362.58  \n",
       "1205               1842456          2891.59  \n",
       "900                1719968          2596.83  \n",
       "465                4703414          5766.07  \n",
       "799                1608817          2183.57  \n",
       "930                 913003          1355.87  "
      ]
     },
     "execution_count": 9,
     "metadata": {},
     "output_type": "execute_result"
    }
   ],
   "source": [
    "df.sample(10)\n"
   ]
  },
  {
   "cell_type": "code",
   "execution_count": 10,
   "id": "7832b2eb",
   "metadata": {},
   "outputs": [
    {
     "data": {
      "text/plain": [
       "Index(['Date', 'Open', 'High', 'Low', 'Last', 'Close', 'Total Trade Quantity',\n",
       "       'Turnover (Lacs)'],\n",
       "      dtype='object')"
      ]
     },
     "execution_count": 10,
     "metadata": {},
     "output_type": "execute_result"
    }
   ],
   "source": [
    "df.columns\n"
   ]
  },
  {
   "cell_type": "code",
   "execution_count": 11,
   "id": "1cf35ffe",
   "metadata": {},
   "outputs": [
    {
     "data": {
      "text/plain": [
       "(2035, 8)"
      ]
     },
     "execution_count": 11,
     "metadata": {},
     "output_type": "execute_result"
    }
   ],
   "source": [
    "df.shape\n"
   ]
  },
  {
   "cell_type": "code",
   "execution_count": 12,
   "id": "084feed4",
   "metadata": {},
   "outputs": [
    {
     "name": "stdout",
     "output_type": "stream",
     "text": [
      "<class 'pandas.core.frame.DataFrame'>\n",
      "RangeIndex: 2035 entries, 0 to 2034\n",
      "Data columns (total 8 columns):\n",
      " #   Column                Non-Null Count  Dtype  \n",
      "---  ------                --------------  -----  \n",
      " 0   Date                  2035 non-null   object \n",
      " 1   Open                  2035 non-null   float64\n",
      " 2   High                  2035 non-null   float64\n",
      " 3   Low                   2035 non-null   float64\n",
      " 4   Last                  2035 non-null   float64\n",
      " 5   Close                 2035 non-null   float64\n",
      " 6   Total Trade Quantity  2035 non-null   int64  \n",
      " 7   Turnover (Lacs)       2035 non-null   float64\n",
      "dtypes: float64(6), int64(1), object(1)\n",
      "memory usage: 127.3+ KB\n"
     ]
    }
   ],
   "source": [
    "df.info()\n"
   ]
  },
  {
   "cell_type": "code",
   "execution_count": 13,
   "id": "a107084d",
   "metadata": {},
   "outputs": [
    {
     "data": {
      "text/plain": [
       "Date                    0\n",
       "Open                    0\n",
       "High                    0\n",
       "Low                     0\n",
       "Last                    0\n",
       "Close                   0\n",
       "Total Trade Quantity    0\n",
       "Turnover (Lacs)         0\n",
       "dtype: int64"
      ]
     },
     "execution_count": 13,
     "metadata": {},
     "output_type": "execute_result"
    }
   ],
   "source": [
    "df.isnull().sum()\n"
   ]
  },
  {
   "cell_type": "code",
   "execution_count": 14,
   "id": "0045503b",
   "metadata": {},
   "outputs": [
    {
     "data": {
      "text/html": [
       "<div>\n",
       "<style scoped>\n",
       "    .dataframe tbody tr th:only-of-type {\n",
       "        vertical-align: middle;\n",
       "    }\n",
       "\n",
       "    .dataframe tbody tr th {\n",
       "        vertical-align: top;\n",
       "    }\n",
       "\n",
       "    .dataframe thead th {\n",
       "        text-align: right;\n",
       "    }\n",
       "</style>\n",
       "<table border=\"1\" class=\"dataframe\">\n",
       "  <thead>\n",
       "    <tr style=\"text-align: right;\">\n",
       "      <th></th>\n",
       "      <th>Open</th>\n",
       "      <th>High</th>\n",
       "      <th>Low</th>\n",
       "      <th>Last</th>\n",
       "      <th>Close</th>\n",
       "      <th>Total Trade Quantity</th>\n",
       "      <th>Turnover (Lacs)</th>\n",
       "    </tr>\n",
       "  </thead>\n",
       "  <tbody>\n",
       "    <tr>\n",
       "      <th>count</th>\n",
       "      <td>2035.000000</td>\n",
       "      <td>2035.000000</td>\n",
       "      <td>2035.000000</td>\n",
       "      <td>2035.000000</td>\n",
       "      <td>2035.00000</td>\n",
       "      <td>2.035000e+03</td>\n",
       "      <td>2035.000000</td>\n",
       "    </tr>\n",
       "    <tr>\n",
       "      <th>mean</th>\n",
       "      <td>149.713735</td>\n",
       "      <td>151.992826</td>\n",
       "      <td>147.293931</td>\n",
       "      <td>149.474251</td>\n",
       "      <td>149.45027</td>\n",
       "      <td>2.335681e+06</td>\n",
       "      <td>3899.980565</td>\n",
       "    </tr>\n",
       "    <tr>\n",
       "      <th>std</th>\n",
       "      <td>48.664509</td>\n",
       "      <td>49.413109</td>\n",
       "      <td>47.931958</td>\n",
       "      <td>48.732570</td>\n",
       "      <td>48.71204</td>\n",
       "      <td>2.091778e+06</td>\n",
       "      <td>4570.767877</td>\n",
       "    </tr>\n",
       "    <tr>\n",
       "      <th>min</th>\n",
       "      <td>81.100000</td>\n",
       "      <td>82.800000</td>\n",
       "      <td>80.000000</td>\n",
       "      <td>81.000000</td>\n",
       "      <td>80.95000</td>\n",
       "      <td>3.961000e+04</td>\n",
       "      <td>37.040000</td>\n",
       "    </tr>\n",
       "    <tr>\n",
       "      <th>25%</th>\n",
       "      <td>120.025000</td>\n",
       "      <td>122.100000</td>\n",
       "      <td>118.300000</td>\n",
       "      <td>120.075000</td>\n",
       "      <td>120.05000</td>\n",
       "      <td>1.146444e+06</td>\n",
       "      <td>1427.460000</td>\n",
       "    </tr>\n",
       "    <tr>\n",
       "      <th>50%</th>\n",
       "      <td>141.500000</td>\n",
       "      <td>143.400000</td>\n",
       "      <td>139.600000</td>\n",
       "      <td>141.100000</td>\n",
       "      <td>141.25000</td>\n",
       "      <td>1.783456e+06</td>\n",
       "      <td>2512.030000</td>\n",
       "    </tr>\n",
       "    <tr>\n",
       "      <th>75%</th>\n",
       "      <td>157.175000</td>\n",
       "      <td>159.400000</td>\n",
       "      <td>155.150000</td>\n",
       "      <td>156.925000</td>\n",
       "      <td>156.90000</td>\n",
       "      <td>2.813594e+06</td>\n",
       "      <td>4539.015000</td>\n",
       "    </tr>\n",
       "    <tr>\n",
       "      <th>max</th>\n",
       "      <td>327.700000</td>\n",
       "      <td>328.750000</td>\n",
       "      <td>321.650000</td>\n",
       "      <td>325.950000</td>\n",
       "      <td>325.75000</td>\n",
       "      <td>2.919102e+07</td>\n",
       "      <td>55755.080000</td>\n",
       "    </tr>\n",
       "  </tbody>\n",
       "</table>\n",
       "</div>"
      ],
      "text/plain": [
       "              Open         High          Low         Last       Close  \\\n",
       "count  2035.000000  2035.000000  2035.000000  2035.000000  2035.00000   \n",
       "mean    149.713735   151.992826   147.293931   149.474251   149.45027   \n",
       "std      48.664509    49.413109    47.931958    48.732570    48.71204   \n",
       "min      81.100000    82.800000    80.000000    81.000000    80.95000   \n",
       "25%     120.025000   122.100000   118.300000   120.075000   120.05000   \n",
       "50%     141.500000   143.400000   139.600000   141.100000   141.25000   \n",
       "75%     157.175000   159.400000   155.150000   156.925000   156.90000   \n",
       "max     327.700000   328.750000   321.650000   325.950000   325.75000   \n",
       "\n",
       "       Total Trade Quantity  Turnover (Lacs)  \n",
       "count          2.035000e+03      2035.000000  \n",
       "mean           2.335681e+06      3899.980565  \n",
       "std            2.091778e+06      4570.767877  \n",
       "min            3.961000e+04        37.040000  \n",
       "25%            1.146444e+06      1427.460000  \n",
       "50%            1.783456e+06      2512.030000  \n",
       "75%            2.813594e+06      4539.015000  \n",
       "max            2.919102e+07     55755.080000  "
      ]
     },
     "execution_count": 14,
     "metadata": {},
     "output_type": "execute_result"
    }
   ],
   "source": [
    "df.describe()\n"
   ]
  },
  {
   "cell_type": "code",
   "execution_count": 15,
   "id": "b66cdafe",
   "metadata": {},
   "outputs": [
    {
     "data": {
      "image/png": "[encoded data removed]",
      "text/plain": [
       "<Figure size 1152x504 with 1 Axes>"
      ]
     },
     "metadata": {
      "needs_background": "light"
     },
     "output_type": "display_data"
    }
   ],
   "source": [
    "plt.figure(figsize=(10,6))\n",
    "df['Close'].plot(kind='line',figsize=(16,7),color='r',label=\"Closing Price\")\n",
    "\n",
    "plt.ylabel(\"Price\")\n",
    "plt.legend(loc=\"upper right\")\n",
    "plt.title(\"Change in closing price over the years\")\n",
    "plt.grid()"
   ]
  },
  {
   "cell_type": "code",
   "execution_count": 16,
   "id": "e41a2d98",
   "metadata": {},
   "outputs": [
    {
     "data": {
      "image/png": "[encoded data removed]",
      "text/plain": [
       "<Figure size 1152x504 with 1 Axes>"
      ]
     },
     "metadata": {
      "needs_background": "light"
     },
     "output_type": "display_data"
    }
   ],
   "source": [
    "plt.figure(figsize=(10,6))\n",
    "df['Open'].plot(kind='line',figsize=(16,7),color='y',label=\"Opening Price\")\n",
    "\n",
    "plt.ylabel(\"Price\")\n",
    "plt.legend(loc=\"upper left\")\n",
    "plt.title(\"Change in opening price over the years\")\n",
    "plt.grid()"
   ]
  },
  {
   "cell_type": "code",
   "execution_count": 17,
   "id": "2861a0d1",
   "metadata": {},
   "outputs": [
    {
     "data": {
      "text/plain": [
       "0       233.75\n",
       "1       233.25\n",
       "2       234.25\n",
       "3       236.10\n",
       "4       233.30\n",
       "         ...  \n",
       "2030    118.65\n",
       "2031    117.60\n",
       "2032    120.65\n",
       "2033    120.90\n",
       "2034    121.55\n",
       "Name: Close, Length: 2035, dtype: float64"
      ]
     },
     "execution_count": 17,
     "metadata": {},
     "output_type": "execute_result"
    }
   ],
   "source": [
    "df1=df.reset_index()['Close']\n",
    "df1"
   ]
  },
  {
   "cell_type": "code",
   "execution_count": 18,
   "id": "cee0e12b",
   "metadata": {},
   "outputs": [
    {
     "data": {
      "text/plain": [
       "<AxesSubplot:>"
      ]
     },
     "execution_count": 18,
     "metadata": {},
     "output_type": "execute_result"
    },
    {
     "data": {
      "image/png": "[encoded data removed]",
      "text/plain": [
       "<Figure size 864x432 with 2 Axes>"
      ]
     },
     "metadata": {
      "needs_background": "light"
     },
     "output_type": "display_data"
    }
   ],
   "source": [
    "plt.figure(figsize=(12,6))\n",
    "sns.heatmap(df.corr(),annot=True,cmap='BuPu')"
   ]
  },
  {
   "cell_type": "code",
   "execution_count": 19,
   "id": "d02d0dd8",
   "metadata": {},
   "outputs": [
    {
     "data": {
      "text/plain": [
       "<AxesSubplot:ylabel='Turnover (Lacs)'>"
      ]
     },
     "execution_count": 19,
     "metadata": {},
     "output_type": "execute_result"
    },
    {
     "data": {
      "image/png": "[encoded data removed]",
      "text/plain": [
       "<Figure size 792x360 with 2 Axes>"
      ]
     },
     "metadata": {
      "needs_background": "light"
     },
     "output_type": "display_data"
    }
   ],
   "source": [
    "plt.figure(figsize=(11,5))\n",
    "plt.subplot(1,2,1)\n",
    "sns.boxplot(data=df,y='Total Trade Quantity',color='green')\n",
    "plt.subplot(1,2,2)\n",
    "sns.boxplot(data=df,y='Turnover (Lacs)',color='red')"
   ]
  },
  {
   "cell_type": "code",
   "execution_count": 20,
   "id": "5fc0b237",
   "metadata": {},
   "outputs": [
    {
     "data": {
      "image/png": "[encoded data removed]",
      "text/plain": [
       "<Figure size 504x432 with 1 Axes>"
      ]
     },
     "metadata": {
      "needs_background": "light"
     },
     "output_type": "display_data"
    }
   ],
   "source": [
    "fig=plt.figure(figsize=(7,6))\n",
    "plt.scatter(df['Total Trade Quantity'],df['Turnover (Lacs)'], alpha=0.5, edgecolor='r', color='cyan')\n",
    "plt.xlabel(\"Trade Quantity (in 100000)\")\n",
    "plt.ylabel(\"Turnover (in lacs)\")\n",
    "plt.title(\" Selling Units Vs Turnover\")\n",
    "plt.show()"
   ]
  },
  {
   "cell_type": "code",
   "execution_count": 21,
   "id": "11c34235",
   "metadata": {},
   "outputs": [
    {
     "data": {
      "text/html": [
       "<div>\n",
       "<style scoped>\n",
       "    .dataframe tbody tr th:only-of-type {\n",
       "        vertical-align: middle;\n",
       "    }\n",
       "\n",
       "    .dataframe tbody tr th {\n",
       "        vertical-align: top;\n",
       "    }\n",
       "\n",
       "    .dataframe thead th {\n",
       "        text-align: right;\n",
       "    }\n",
       "</style>\n",
       "<table border=\"1\" class=\"dataframe\">\n",
       "  <thead>\n",
       "    <tr style=\"text-align: right;\">\n",
       "      <th></th>\n",
       "      <th>Open</th>\n",
       "    </tr>\n",
       "  </thead>\n",
       "  <tbody>\n",
       "    <tr>\n",
       "      <th>0</th>\n",
       "      <td>234.05</td>\n",
       "    </tr>\n",
       "    <tr>\n",
       "      <th>1</th>\n",
       "      <td>234.55</td>\n",
       "    </tr>\n",
       "    <tr>\n",
       "      <th>2</th>\n",
       "      <td>240.00</td>\n",
       "    </tr>\n",
       "    <tr>\n",
       "      <th>3</th>\n",
       "      <td>233.30</td>\n",
       "    </tr>\n",
       "    <tr>\n",
       "      <th>4</th>\n",
       "      <td>233.55</td>\n",
       "    </tr>\n",
       "    <tr>\n",
       "      <th>...</th>\n",
       "      <td>...</td>\n",
       "    </tr>\n",
       "    <tr>\n",
       "      <th>2030</th>\n",
       "      <td>117.60</td>\n",
       "    </tr>\n",
       "    <tr>\n",
       "      <th>2031</th>\n",
       "      <td>120.10</td>\n",
       "    </tr>\n",
       "    <tr>\n",
       "      <th>2032</th>\n",
       "      <td>121.80</td>\n",
       "    </tr>\n",
       "    <tr>\n",
       "      <th>2033</th>\n",
       "      <td>120.30</td>\n",
       "    </tr>\n",
       "    <tr>\n",
       "      <th>2034</th>\n",
       "      <td>122.10</td>\n",
       "    </tr>\n",
       "  </tbody>\n",
       "</table>\n",
       "<p>2035 rows × 1 columns</p>\n",
       "</div>"
      ],
      "text/plain": [
       "        Open\n",
       "0     234.05\n",
       "1     234.55\n",
       "2     240.00\n",
       "3     233.30\n",
       "4     233.55\n",
       "...      ...\n",
       "2030  117.60\n",
       "2031  120.10\n",
       "2032  121.80\n",
       "2033  120.30\n",
       "2034  122.10\n",
       "\n",
       "[2035 rows x 1 columns]"
      ]
     },
     "execution_count": 21,
     "metadata": {},
     "output_type": "execute_result"
    }
   ],
   "source": [
    "training_set= df[['Open']]\n",
    "training_set=pd.DataFrame(training_set)\n",
    "training_set"
   ]
  },
  {
   "cell_type": "code",
   "execution_count": 22,
   "id": "553f0feb",
   "metadata": {},
   "outputs": [],
   "source": [
    "scaler=MinMaxScaler(feature_range=(0,1))\n",
    "training_set_scaler=scaler.fit_transform(np.array(df1).reshape(-1,1))"
   ]
  },
  {
   "cell_type": "code",
   "execution_count": 23,
   "id": "e09363ae",
   "metadata": {},
   "outputs": [
    {
     "data": {
      "text/plain": [
       "array([[0.62418301],\n",
       "       [0.62214052],\n",
       "       [0.62622549],\n",
       "       ...,\n",
       "       [0.1621732 ],\n",
       "       [0.16319444],\n",
       "       [0.16584967]])"
      ]
     },
     "execution_count": 23,
     "metadata": {},
     "output_type": "execute_result"
    }
   ],
   "source": [
    "training_set_scaler\n"
   ]
  },
  {
   "cell_type": "code",
   "execution_count": 24,
   "id": "9c4e917d",
   "metadata": {},
   "outputs": [],
   "source": [
    "train_size1= int(len(training_set_scaler)*0.65)\n",
    "test_size1=int(len(training_set_scaler))-train_size1\n",
    "train_data1,test_data1=training_set_scaler[0:train_size1,:],training_set_scaler[train_size1:len(df),:1] "
   ]
  },
  {
   "cell_type": "code",
   "execution_count": 25,
   "id": "6226098d",
   "metadata": {},
   "outputs": [
    {
     "data": {
      "text/plain": [
       "1322"
      ]
     },
     "execution_count": 25,
     "metadata": {},
     "output_type": "execute_result"
    }
   ],
   "source": [
    "train_size1\n"
   ]
  },
  {
   "cell_type": "code",
   "execution_count": 26,
   "id": "105573b1",
   "metadata": {},
   "outputs": [],
   "source": [
    "def create_dataset(dataset,time_step=1):\n",
    "    dataX, dataY = [], []\n",
    "    for i in range(len(dataset)-time_step-1):\n",
    "        a = dataset[i:(i+time_step), 0]   ###i=0, 0,1,2,3-----99   100 \n",
    "        dataX.append(a)\n",
    "        dataY.append(dataset[i + time_step, 0])\n",
    "    return np.array(dataX), np.array(dataY)"
   ]
  },
  {
   "cell_type": "code",
   "execution_count": 27,
   "id": "2435a6b6",
   "metadata": {},
   "outputs": [],
   "source": [
    "time_step=100\n",
    "x_train, y_train=create_dataset(train_data1, time_step)\n",
    "x_test, y_test= create_dataset(test_data1, time_step)"
   ]
  },
  {
   "cell_type": "code",
   "execution_count": 28,
   "id": "feab3948",
   "metadata": {},
   "outputs": [
    {
     "name": "stdout",
     "output_type": "stream",
     "text": [
      "(1221, 100) (1221,)\n"
     ]
    }
   ],
   "source": [
    "print(x_train.shape,y_train.shape)\n"
   ]
  },
  {
   "cell_type": "code",
   "execution_count": 29,
   "id": "560c751a",
   "metadata": {},
   "outputs": [
    {
     "data": {
      "text/plain": [
       "(612, 100)"
      ]
     },
     "execution_count": 29,
     "metadata": {},
     "output_type": "execute_result"
    }
   ],
   "source": [
    "x_test.shape\n"
   ]
  },
  {
   "cell_type": "code",
   "execution_count": 30,
   "id": "ef75b469",
   "metadata": {},
   "outputs": [
    {
     "data": {
      "text/plain": [
       "(612,)"
      ]
     },
     "execution_count": 30,
     "metadata": {},
     "output_type": "execute_result"
    }
   ],
   "source": [
    "y_test.shape\n"
   ]
  },
  {
   "cell_type": "code",
   "execution_count": 31,
   "id": "3bde964a",
   "metadata": {},
   "outputs": [],
   "source": [
    "x_train = x_train.reshape(x_train.shape[0],x_train.shape[1] , 1)\n",
    "x_test = x_test.reshape(x_test.shape[0],x_test.shape[1] , 1)"
   ]
  },
  {
   "cell_type": "code",
   "execution_count": 32,
   "id": "8be5d7b4",
   "metadata": {},
   "outputs": [],
   "source": [
    "model = Sequential()\n",
    "model.add(LSTM(50, return_sequences=True, input_shape=(100,1)))\n",
    "model.add(LSTM(50, return_sequences=True, input_shape=(100,1)))\n",
    "model.add(LSTM(50))\n",
    "model.add(Dense(1))\n",
    "model.compile(loss='mean_squared_error', optimizer='adam', metrics='acc')"
   ]
  },
  {
   "cell_type": "code",
   "execution_count": 33,
   "id": "39fad80c",
   "metadata": {},
   "outputs": [
    {
     "name": "stdout",
     "output_type": "stream",
     "text": [
      "Model: \"sequential\"\n",
      "_________________________________________________________________\n",
      " Layer (type)                Output Shape              Param #   \n",
      "=================================================================\n",
      " lstm (LSTM)                 (None, 100, 50)           10400     \n",
      "                                                                 \n",
      " lstm_1 (LSTM)               (None, 100, 50)           20200     \n",
      "                                                                 \n",
      " lstm_2 (LSTM)               (None, 50)                20200     \n",
      "                                                                 \n",
      " dense (Dense)               (None, 1)                 51        \n",
      "                                                                 \n",
      "=================================================================\n",
      "Total params: 50,851\n",
      "Trainable params: 50,851\n",
      "Non-trainable params: 0\n",
      "_________________________________________________________________\n"
     ]
    }
   ],
   "source": [
    "model.summary()\n"
   ]
  },
  {
   "cell_type": "code",
   "execution_count": 34,
   "id": "d2ebd3bc",
   "metadata": {},
   "outputs": [
    {
     "name": "stdout",
     "output_type": "stream",
     "text": [
      "Epoch 1/75\n",
      "20/20 [==============================] - 21s 337ms/step - loss: 0.0333 - acc: 8.1900e-04 - val_loss: 0.0033 - val_acc: 0.0016\n",
      "Epoch 2/75\n",
      "20/20 [==============================] - 4s 200ms/step - loss: 0.0034 - acc: 8.1900e-04 - val_loss: 8.4696e-04 - val_acc: 0.0016\n",
      "Epoch 3/75\n",
      "20/20 [==============================] - 4s 201ms/step - loss: 0.0020 - acc: 8.1900e-04 - val_loss: 0.0011 - val_acc: 0.0016\n",
      "Epoch 4/75\n",
      "20/20 [==============================] - 4s 177ms/step - loss: 0.0018 - acc: 8.1900e-04 - val_loss: 0.0011 - val_acc: 0.0016\n",
      "Epoch 5/75\n",
      "20/20 [==============================] - 3s 152ms/step - loss: 0.0015 - acc: 8.1900e-04 - val_loss: 0.0010 - val_acc: 0.0016\n",
      "Epoch 6/75\n",
      "20/20 [==============================] - 3s 151ms/step - loss: 0.0014 - acc: 8.1900e-04 - val_loss: 0.0011 - val_acc: 0.0016\n",
      "Epoch 7/75\n",
      "20/20 [==============================] - 3s 152ms/step - loss: 0.0014 - acc: 8.1900e-04 - val_loss: 0.0010 - val_acc: 0.0016\n",
      "Epoch 8/75\n",
      "20/20 [==============================] - 3s 152ms/step - loss: 0.0013 - acc: 8.1900e-04 - val_loss: 8.9250e-04 - val_acc: 0.0016\n",
      "Epoch 9/75\n",
      "20/20 [==============================] - 3s 153ms/step - loss: 0.0015 - acc: 8.1900e-04 - val_loss: 9.2452e-04 - val_acc: 0.0016\n",
      "Epoch 10/75\n",
      "20/20 [==============================] - 4s 199ms/step - loss: 0.0013 - acc: 8.1900e-04 - val_loss: 0.0013 - val_acc: 0.0016\n",
      "Epoch 11/75\n",
      "20/20 [==============================] - 3s 163ms/step - loss: 0.0012 - acc: 8.1900e-04 - val_loss: 0.0011 - val_acc: 0.0016\n",
      "Epoch 12/75\n",
      "20/20 [==============================] - 6s 305ms/step - loss: 0.0011 - acc: 8.1900e-04 - val_loss: 9.7595e-04 - val_acc: 0.0016\n",
      "Epoch 13/75\n",
      "20/20 [==============================] - 4s 194ms/step - loss: 0.0012 - acc: 8.1900e-04 - val_loss: 8.8370e-04 - val_acc: 0.0016\n",
      "Epoch 14/75\n",
      "20/20 [==============================] - 4s 184ms/step - loss: 0.0010 - acc: 8.1900e-04 - val_loss: 8.6025e-04 - val_acc: 0.0016\n",
      "Epoch 15/75\n",
      "20/20 [==============================] - 3s 172ms/step - loss: 9.5215e-04 - acc: 8.1900e-04 - val_loss: 7.0419e-04 - val_acc: 0.0016\n",
      "Epoch 16/75\n",
      "20/20 [==============================] - 4s 185ms/step - loss: 0.0011 - acc: 8.1900e-04 - val_loss: 9.8262e-04 - val_acc: 0.0016\n",
      "Epoch 17/75\n",
      "20/20 [==============================] - 4s 180ms/step - loss: 9.3641e-04 - acc: 8.1900e-04 - val_loss: 9.2795e-04 - val_acc: 0.0016\n",
      "Epoch 18/75\n",
      "20/20 [==============================] - 3s 155ms/step - loss: 9.2986e-04 - acc: 8.1900e-04 - val_loss: 8.1119e-04 - val_acc: 0.0016\n",
      "Epoch 19/75\n",
      "20/20 [==============================] - 3s 153ms/step - loss: 8.9853e-04 - acc: 8.1900e-04 - val_loss: 7.6325e-04 - val_acc: 0.0016\n",
      "Epoch 20/75\n",
      "20/20 [==============================] - 3s 153ms/step - loss: 9.8362e-04 - acc: 8.1900e-04 - val_loss: 8.3747e-04 - val_acc: 0.0016\n",
      "Epoch 21/75\n",
      "20/20 [==============================] - 3s 151ms/step - loss: 8.9435e-04 - acc: 8.1900e-04 - val_loss: 0.0010 - val_acc: 0.0016\n",
      "Epoch 22/75\n",
      "20/20 [==============================] - 3s 160ms/step - loss: 8.1324e-04 - acc: 8.1900e-04 - val_loss: 9.8320e-04 - val_acc: 0.0016\n",
      "Epoch 23/75\n",
      "20/20 [==============================] - 3s 157ms/step - loss: 0.0011 - acc: 8.1900e-04 - val_loss: 7.7760e-04 - val_acc: 0.0016\n",
      "Epoch 24/75\n",
      "20/20 [==============================] - 3s 155ms/step - loss: 8.2785e-04 - acc: 8.1900e-04 - val_loss: 7.4275e-04 - val_acc: 0.0016\n",
      "Epoch 25/75\n",
      "20/20 [==============================] - 3s 151ms/step - loss: 7.2714e-04 - acc: 8.1900e-04 - val_loss: 7.2695e-04 - val_acc: 0.0016\n",
      "Epoch 26/75\n",
      "20/20 [==============================] - 3s 154ms/step - loss: 6.9891e-04 - acc: 8.1900e-04 - val_loss: 7.4751e-04 - val_acc: 0.0016\n",
      "Epoch 27/75\n",
      "20/20 [==============================] - 3s 162ms/step - loss: 7.4463e-04 - acc: 8.1900e-04 - val_loss: 8.4192e-04 - val_acc: 0.0016\n",
      "Epoch 28/75\n",
      "20/20 [==============================] - 3s 167ms/step - loss: 7.0911e-04 - acc: 8.1900e-04 - val_loss: 7.4424e-04 - val_acc: 0.0016\n",
      "Epoch 29/75\n",
      "20/20 [==============================] - 3s 154ms/step - loss: 6.9889e-04 - acc: 8.1900e-04 - val_loss: 7.9406e-04 - val_acc: 0.0016\n",
      "Epoch 30/75\n",
      "20/20 [==============================] - 3s 153ms/step - loss: 6.7911e-04 - acc: 8.1900e-04 - val_loss: 7.7220e-04 - val_acc: 0.0016\n",
      "Epoch 31/75\n",
      "20/20 [==============================] - 3s 155ms/step - loss: 6.3223e-04 - acc: 8.1900e-04 - val_loss: 7.3370e-04 - val_acc: 0.0016\n",
      "Epoch 32/75\n",
      "20/20 [==============================] - 3s 153ms/step - loss: 6.4564e-04 - acc: 8.1900e-04 - val_loss: 6.1771e-04 - val_acc: 0.0016\n",
      "Epoch 33/75\n",
      "20/20 [==============================] - 3s 151ms/step - loss: 6.4085e-04 - acc: 8.1900e-04 - val_loss: 6.8611e-04 - val_acc: 0.0016\n",
      "Epoch 34/75\n",
      "20/20 [==============================] - 3s 153ms/step - loss: 6.6445e-04 - acc: 8.1900e-04 - val_loss: 6.3020e-04 - val_acc: 0.0016\n",
      "Epoch 35/75\n",
      "20/20 [==============================] - 3s 152ms/step - loss: 6.4889e-04 - acc: 8.1900e-04 - val_loss: 7.4207e-04 - val_acc: 0.0016\n",
      "Epoch 36/75\n",
      "20/20 [==============================] - 3s 152ms/step - loss: 5.9496e-04 - acc: 8.1900e-04 - val_loss: 5.6746e-04 - val_acc: 0.0016\n",
      "Epoch 37/75\n",
      "20/20 [==============================] - 4s 216ms/step - loss: 5.7737e-04 - acc: 8.1900e-04 - val_loss: 6.3656e-04 - val_acc: 0.0016\n",
      "Epoch 38/75\n",
      "20/20 [==============================] - 3s 155ms/step - loss: 5.6141e-04 - acc: 8.1900e-04 - val_loss: 6.6788e-04 - val_acc: 0.0016\n",
      "Epoch 39/75\n",
      "20/20 [==============================] - 3s 154ms/step - loss: 6.1823e-04 - acc: 8.1900e-04 - val_loss: 6.6062e-04 - val_acc: 0.0016\n",
      "Epoch 40/75\n",
      "20/20 [==============================] - 3s 153ms/step - loss: 6.2360e-04 - acc: 8.1900e-04 - val_loss: 9.0272e-04 - val_acc: 0.0016\n",
      "Epoch 41/75\n",
      "20/20 [==============================] - 3s 155ms/step - loss: 6.3293e-04 - acc: 8.1900e-04 - val_loss: 7.0844e-04 - val_acc: 0.0016\n",
      "Epoch 42/75\n",
      "20/20 [==============================] - 3s 161ms/step - loss: 5.5484e-04 - acc: 8.1900e-04 - val_loss: 5.7134e-04 - val_acc: 0.0016\n",
      "Epoch 43/75\n",
      "20/20 [==============================] - 3s 160ms/step - loss: 6.0071e-04 - acc: 8.1900e-04 - val_loss: 6.0963e-04 - val_acc: 0.0016\n",
      "Epoch 44/75\n",
      "20/20 [==============================] - 3s 153ms/step - loss: 5.2283e-04 - acc: 8.1900e-04 - val_loss: 6.5969e-04 - val_acc: 0.0016\n",
      "Epoch 45/75\n",
      "20/20 [==============================] - 3s 154ms/step - loss: 5.2546e-04 - acc: 8.1900e-04 - val_loss: 5.2062e-04 - val_acc: 0.0016\n",
      "Epoch 46/75\n",
      "20/20 [==============================] - 3s 159ms/step - loss: 5.3699e-04 - acc: 8.1900e-04 - val_loss: 4.8178e-04 - val_acc: 0.0016\n",
      "Epoch 47/75\n",
      "20/20 [==============================] - 3s 156ms/step - loss: 5.1892e-04 - acc: 8.1900e-04 - val_loss: 6.8357e-04 - val_acc: 0.0016\n",
      "Epoch 48/75\n",
      "20/20 [==============================] - 3s 159ms/step - loss: 4.9296e-04 - acc: 8.1900e-04 - val_loss: 5.1130e-04 - val_acc: 0.0016\n",
      "Epoch 49/75\n",
      "20/20 [==============================] - 3s 158ms/step - loss: 4.7451e-04 - acc: 8.1900e-04 - val_loss: 6.9948e-04 - val_acc: 0.0016\n",
      "Epoch 50/75\n",
      "20/20 [==============================] - 3s 157ms/step - loss: 5.1311e-04 - acc: 8.1900e-04 - val_loss: 5.5406e-04 - val_acc: 0.0016\n",
      "Epoch 51/75\n",
      "20/20 [==============================] - 3s 158ms/step - loss: 4.7679e-04 - acc: 8.1900e-04 - val_loss: 4.6267e-04 - val_acc: 0.0016\n",
      "Epoch 52/75\n",
      "20/20 [==============================] - 3s 158ms/step - loss: 4.6055e-04 - acc: 8.1900e-04 - val_loss: 4.9951e-04 - val_acc: 0.0016\n",
      "Epoch 53/75\n",
      "20/20 [==============================] - 3s 157ms/step - loss: 4.3274e-04 - acc: 8.1900e-04 - val_loss: 5.6900e-04 - val_acc: 0.0016\n",
      "Epoch 54/75\n",
      "20/20 [==============================] - 3s 154ms/step - loss: 4.6018e-04 - acc: 8.1900e-04 - val_loss: 5.9717e-04 - val_acc: 0.0016\n",
      "Epoch 55/75\n",
      "20/20 [==============================] - 3s 157ms/step - loss: 7.7243e-04 - acc: 8.1900e-04 - val_loss: 4.4874e-04 - val_acc: 0.0016\n",
      "Epoch 56/75\n",
      "20/20 [==============================] - 3s 156ms/step - loss: 4.6176e-04 - acc: 8.1900e-04 - val_loss: 4.1514e-04 - val_acc: 0.0016\n",
      "Epoch 57/75\n",
      "20/20 [==============================] - 3s 154ms/step - loss: 4.0247e-04 - acc: 8.1900e-04 - val_loss: 4.8941e-04 - val_acc: 0.0016\n",
      "Epoch 58/75\n",
      "20/20 [==============================] - 3s 152ms/step - loss: 3.9899e-04 - acc: 8.1900e-04 - val_loss: 4.3930e-04 - val_acc: 0.0016\n",
      "Epoch 59/75\n",
      "20/20 [==============================] - 3s 150ms/step - loss: 4.0868e-04 - acc: 8.1900e-04 - val_loss: 4.3783e-04 - val_acc: 0.0016\n",
      "Epoch 60/75\n",
      "20/20 [==============================] - 3s 149ms/step - loss: 4.4143e-04 - acc: 8.1900e-04 - val_loss: 3.6781e-04 - val_acc: 0.0016\n",
      "Epoch 61/75\n",
      "20/20 [==============================] - 3s 150ms/step - loss: 3.9054e-04 - acc: 8.1900e-04 - val_loss: 5.5397e-04 - val_acc: 0.0016\n",
      "Epoch 62/75\n",
      "20/20 [==============================] - 3s 150ms/step - loss: 4.4272e-04 - acc: 8.1900e-04 - val_loss: 4.6545e-04 - val_acc: 0.0016\n",
      "Epoch 63/75\n",
      "20/20 [==============================] - 3s 154ms/step - loss: 3.9533e-04 - acc: 8.1900e-04 - val_loss: 6.3554e-04 - val_acc: 0.0016\n",
      "Epoch 64/75\n",
      "20/20 [==============================] - 3s 153ms/step - loss: 4.8949e-04 - acc: 8.1900e-04 - val_loss: 3.8502e-04 - val_acc: 0.0016\n",
      "Epoch 65/75\n",
      "20/20 [==============================] - 3s 153ms/step - loss: 3.4744e-04 - acc: 8.1900e-04 - val_loss: 3.7881e-04 - val_acc: 0.0016\n",
      "Epoch 66/75\n",
      "20/20 [==============================] - 3s 155ms/step - loss: 4.0002e-04 - acc: 8.1900e-04 - val_loss: 2.9962e-04 - val_acc: 0.0016\n",
      "Epoch 67/75\n",
      "20/20 [==============================] - 3s 152ms/step - loss: 3.4761e-04 - acc: 8.1900e-04 - val_loss: 4.4411e-04 - val_acc: 0.0016\n",
      "Epoch 68/75\n",
      "20/20 [==============================] - 3s 153ms/step - loss: 3.6638e-04 - acc: 8.1900e-04 - val_loss: 4.7061e-04 - val_acc: 0.0016\n",
      "Epoch 69/75\n",
      "20/20 [==============================] - 3s 153ms/step - loss: 3.5240e-04 - acc: 8.1900e-04 - val_loss: 2.8067e-04 - val_acc: 0.0016\n",
      "Epoch 70/75\n",
      "20/20 [==============================] - 3s 152ms/step - loss: 3.2723e-04 - acc: 8.1900e-04 - val_loss: 3.1711e-04 - val_acc: 0.0016\n",
      "Epoch 71/75\n",
      "20/20 [==============================] - 3s 153ms/step - loss: 5.1359e-04 - acc: 8.1900e-04 - val_loss: 3.2589e-04 - val_acc: 0.0016\n",
      "Epoch 72/75\n",
      "20/20 [==============================] - 3s 151ms/step - loss: 3.3255e-04 - acc: 8.1900e-04 - val_loss: 3.4168e-04 - val_acc: 0.0016\n",
      "Epoch 73/75\n",
      "20/20 [==============================] - 3s 152ms/step - loss: 3.1405e-04 - acc: 8.1900e-04 - val_loss: 2.9293e-04 - val_acc: 0.0016\n",
      "Epoch 74/75\n",
      "20/20 [==============================] - 3s 175ms/step - loss: 3.9235e-04 - acc: 8.1900e-04 - val_loss: 3.8150e-04 - val_acc: 0.0016\n",
      "Epoch 75/75\n",
      "20/20 [==============================] - 4s 179ms/step - loss: 3.3684e-04 - acc: 8.1900e-04 - val_loss: 2.5905e-04 - val_acc: 0.0016\n"
     ]
    },
    {
     "data": {
      "text/plain": [
       "<keras.callbacks.History at 0x29fc67c2350>"
      ]
     },
     "execution_count": 34,
     "metadata": {},
     "output_type": "execute_result"
    }
   ],
   "source": [
    "model.fit(x_train, y_train, validation_data = (x_test, y_test), epochs = 75, batch_size = 64, verbose = 1)\n"
   ]
  },
  {
   "cell_type": "code",
   "execution_count": 35,
   "id": "b6104cd7",
   "metadata": {},
   "outputs": [
    {
     "name": "stdout",
     "output_type": "stream",
     "text": [
      "39/39 [==============================] - 9s 46ms/step\n",
      "20/20 [==============================] - 1s 44ms/step\n"
     ]
    }
   ],
   "source": [
    "train_predict1=model.predict(x_train)\n",
    "test_predict1=model.predict(x_test)\n",
    "#Transformback to original form\n",
    "train_predict1=scaler.inverse_transform(train_predict1)\n",
    "test_predict1=scaler.inverse_transform(test_predict1)"
   ]
  },
  {
   "cell_type": "code",
   "execution_count": 36,
   "id": "2b025740",
   "metadata": {},
   "outputs": [
    {
     "data": {
      "text/plain": [
       "163.96912263612856"
      ]
     },
     "execution_count": 36,
     "metadata": {},
     "output_type": "execute_result"
    }
   ],
   "source": [
    "math.sqrt(mean_squared_error(y_train,train_predict1))\n"
   ]
  },
  {
   "cell_type": "code",
   "execution_count": 37,
   "id": "ac9a3983",
   "metadata": {},
   "outputs": [
    {
     "data": {
      "text/plain": [
       "114.95930088243017"
      ]
     },
     "execution_count": 37,
     "metadata": {},
     "output_type": "execute_result"
    }
   ],
   "source": [
    "math.sqrt(mean_squared_error(y_test,test_predict1))\n"
   ]
  },
  {
   "cell_type": "code",
   "execution_count": 38,
   "id": "1856a5dc",
   "metadata": {},
   "outputs": [
    {
     "data": {
      "image/png": "[encoded data removed]",
      "text/plain": [
       "<Figure size 720x360 with 1 Axes>"
      ]
     },
     "metadata": {
      "needs_background": "light"
     },
     "output_type": "display_data"
    }
   ],
   "source": [
    "look_back=100\n",
    "trainPredictPlot = np.empty_like(training_set_scaler)\n",
    "trainPredictPlot[:, :] = np.nan\n",
    "trainPredictPlot[look_back:len(train_predict1)+look_back, :] = train_predict1\n",
    "\n",
    "# shift test predictions for plotting\n",
    "testPredictPlot = np.empty_like(training_set_scaler)\n",
    "testPredictPlot[:, :] = np.nan\n",
    "testPredictPlot[len(train_predict1)+(look_back*2)+1:len(df1)-1, :] = test_predict1\n",
    "\n",
    "# plot baseline and predictions\n",
    "plt.figure(figsize=(10,5))\n",
    "plt.plot(scaler.inverse_transform(training_set_scaler))\n",
    "plt.plot(trainPredictPlot)\n",
    "plt.plot(testPredictPlot)\n",
    "plt.show()"
   ]
  },
  {
   "cell_type": "code",
   "execution_count": null,
   "id": "ad0b857a",
   "metadata": {},
   "outputs": [],
   "source": []
  }
 ],
 "metadata": {
  "kernelspec": {
   "display_name": "Python 3 (ipykernel)",
   "language": "python",
   "name": "python3"
  },
  "language_info": {
   "codemirror_mode": {
    "name": "ipython",
    "version": 3
   },
   "file_extension": ".py",
   "mimetype": "text/x-python",
   "name": "python",
   "nbconvert_exporter": "python",
   "pygments_lexer": "ipython3",
   "version": "3.10.6"
  }
 },
 "nbformat": 4,
 "nbformat_minor": 5
}
